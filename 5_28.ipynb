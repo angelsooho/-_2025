{
  "nbformat": 4,
  "nbformat_minor": 0,
  "metadata": {
    "colab": {
      "provenance": [],
      "authorship_tag": "ABX9TyNa4kUgeec6CTIMyDr5hROU",
      "include_colab_link": true
    },
    "kernelspec": {
      "name": "python3",
      "display_name": "Python 3"
    },
    "language_info": {
      "name": "python"
    }
  },
  "cells": [
    {
      "cell_type": "markdown",
      "metadata": {
        "id": "view-in-github",
        "colab_type": "text"
      },
      "source": [
        "<a href=\"https://colab.research.google.com/github/angelsooho/-_2025/blob/main/5_28.ipynb\" target=\"_parent\"><img src=\"https://colab.research.google.com/assets/colab-badge.svg\" alt=\"Open In Colab\"/></a>"
      ]
    },
    {
      "cell_type": "code",
      "source": [
        "import pandas as pd\n",
        "from scipy.stats import shapiro\n",
        "\n",
        "data = pd.read_csv(\"soo_ho.csv\", encoding='cp949')\n",
        "\n",
        "group_male = data[data['성별'] == '남학생']['점수']\n",
        "group_female = data[data['성별'] == '여학생']['점수']\n",
        "\n",
        "shapiro_male = shapiro(group_male)\n",
        "shapiro_female = shapiro(group_female)\n",
        "\n",
        "alpha = 0.05\n",
        "\n",
        "print(f\"{shapiro_male.statistic:.4f}\", f\"{shapiro_male.pvalue:.4f}\")\n",
        "print(f\"{shapiro_female.statistic:.4f}\", f\"{shapiro_female.pvalue:.4f}\")\n",
        "\n",
        "if shapiro_male.pvalue > alpha:\n",
        "    print(\"남학생 점수는 정규분포를 따른다\")\n",
        "else:\n",
        "    print(\"남학생 점수는 정규분포를 따르지 않는다\")\n",
        "\n",
        "if shapiro_female.pvalue > alpha:\n",
        "    print(\"여학생 점수는 정규분포를 따른다\")\n",
        "else:\n",
        "    print(\"여학생 점수는 정규분포를 따르지 않는다\")"
      ],
      "metadata": {
        "id": "O7VrsiFGgBmS",
        "outputId": "0bafbb76-e7e5-4e28-c830-d98d83da2c7c",
        "colab": {
          "base_uri": "https://localhost:8080/"
        }
      },
      "execution_count": null,
      "outputs": [
        {
          "output_type": "stream",
          "name": "stdout",
          "text": [
            "0.9078 0.0578\n",
            "0.8691 0.0113\n",
            "남학생 점수는 정규분포를 따른다\n",
            "여학생 점수는 정규분포를 따르지 않는다\n"
          ]
        }
      ]
    },
    {
      "cell_type": "code",
      "source": [
        "import pandas as pd\n",
        "from scipy.stats import ttest_ind\n",
        "\n",
        "data = pd.read_csv(\"soo_ho.csv\", encoding='cp949')\n",
        "\n",
        "group_male = data[data['성별'] == '남학생']['점수']\n",
        "group_female = data[data['성별'] == '여학생']['점수']\n",
        "\n",
        "t_statistic, p_value_two_tailed = ttest_ind(group_male, group_female)\n",
        "\n",
        "if t_statistic > 0:\n",
        "    p_value_one_tailed = p_value_two_tailed / 2\n",
        "else:\n",
        "    p_value_one_tailed = 1 - (p_value_two_tailed / 2)\n",
        "\n",
        "alpha = 0.05\n",
        "\n",
        "print(f\"{t_statistic:.4f}\", f\"{p_value_one_tailed:.4f}\")\n",
        "\n",
        "if p_value_one_tailed < alpha:\n",
        "    print(\"귀무가설 기각\")\n",
        "else:\n",
        "    print(\"귀무가설 채택\")"
      ],
      "metadata": {
        "id": "o7sxk_X7gCTG",
        "outputId": "64d7add2-b1d6-481c-c5a4-c75bd14c5e6e",
        "colab": {
          "base_uri": "https://localhost:8080/"
        }
      },
      "execution_count": null,
      "outputs": [
        {
          "output_type": "stream",
          "name": "stdout",
          "text": [
            "-0.5496 0.7071\n",
            "귀무가설 채택\n"
          ]
        }
      ]
    }
  ]
}